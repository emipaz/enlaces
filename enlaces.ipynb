{
 "cells": [
  {
   "cell_type": "code",
   "execution_count": 5,
   "metadata": {},
   "outputs": [],
   "source": [
    "def enlaces(url,todo = False):\n",
    "    import requests\n",
    "    from bs4 import BeautifulSoup\n",
    "    \"\"\"\n",
    "    recibe un url  \n",
    "    si todo = False devuelve dos tuplas con los enlaces externos y internos que posee la pagina\n",
    "    si todo = True devuelve una sola tupla con todos los enlaces de la pagina\n",
    "    url --> (enlaces externos, enlaces internos)\n",
    "    \n",
    "    \"\"\"\n",
    "    try:\n",
    "        ar    = requests.get(url)\n",
    "        bs    = BeautifulSoup(ar.text, \"html.parser\")\n",
    "        lista = bs.find_all(\"a\")\n",
    "        ext   = [x.get(\"href\") for x in lista if not x.get(\"href\").startswith(\"#\") and x.get(\"href\").startswith(\"http\")]\n",
    "        inter = [url + x.get(\"href\") for x in lista if not x.get(\"href\").startswith(\"#\") and not x.get(\"href\").startswith(\"http\")]\n",
    "    except :\n",
    "        return None\n",
    "    if todo:\n",
    "        list.extend(ext,inter)\n",
    "        return tuple(ext)\n",
    "    return tuple(ext) , tuple(inter)"
   ]
  },
  {
   "cell_type": "code",
   "execution_count": 6,
   "metadata": {},
   "outputs": [
    {
     "data": {
      "text/plain": [
       "(('https://web.facebook.com/arieljosealegre',\n",
       "  'https://twitter.com/GraduadosFIUBA',\n",
       "  'https://www.linkedin.com/in/graduadosfiuba',\n",
       "  'https://www.youtube.com/channel/UCmXtpdu6SIFMDC5OATfFbyQ',\n",
       "  'https://ar.pinterest.com/aalegre1326',\n",
       "  'https://github.com/backpropagation-limitada',\n",
       "  'https://forms.gle/JNvfN4SL1kYLC6cZ7',\n",
       "  'https://forms.gle/4ahSyeTVYnv6tT6a8',\n",
       "  'https://forms.gle/iuRRpfxDcpBGzGxQ6',\n",
       "  'https://forms.gle/GRFbnTm5kHduw35X9',\n",
       "  'https://forms.gle/xyU9RcStHE9KVjgV6',\n",
       "  'https://forms.gle/iuRRpfxDcpBGzGxQ6',\n",
       "  'https://forms.gle/EQWJfEwiKMKJ4XHx8',\n",
       "  'https://forms.gle/hKCJRzjQq9KRGEdK6',\n",
       "  'https://forms.gle/SDF4vte7QWWKGLFU6',\n",
       "  'https://forms.gle/ctMnVCqU97xh3PwEA',\n",
       "  'https://forms.gle/jKeVBkZwcxGctQpV9',\n",
       "  'https://forms.gle/XoChpebQb1TzES5J7',\n",
       "  'https://graduadosfiuba.org/temas0.html',\n",
       "  'https://graduadosfiuba.org/temas0.html',\n",
       "  'https://graduadosfiuba.org/temas0.html'),\n",
       " ())"
      ]
     },
     "execution_count": 6,
     "metadata": {},
     "output_type": "execute_result"
    }
   ],
   "source": [
    "enlaces(\"https://www.graduadosfiuba.org/\")"
   ]
  },
  {
   "cell_type": "code",
   "execution_count": null,
   "metadata": {},
   "outputs": [],
   "source": []
  }
 ],
 "metadata": {
  "kernelspec": {
   "display_name": "Python 3.7.4 64-bit ('base': conda)",
   "language": "python",
   "name": "python37464bitbaseconda558c5b00091e4465b87cbb418ecb0c83"
  },
  "language_info": {
   "codemirror_mode": {
    "name": "ipython",
    "version": 3
   },
   "file_extension": ".py",
   "mimetype": "text/x-python",
   "name": "python",
   "nbconvert_exporter": "python",
   "pygments_lexer": "ipython3",
   "version": "3.7.4"
  }
 },
 "nbformat": 4,
 "nbformat_minor": 4
}

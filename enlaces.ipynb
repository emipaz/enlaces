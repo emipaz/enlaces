{
 "cells": [
  {
   "cell_type": "code",
   "execution_count": 9,
   "metadata": {},
   "outputs": [],
   "source": [
    "def enlaces(url,todo = False):\n",
    "    import requests\n",
    "    from bs4 import BeautifulSoup\n",
    "    \"\"\"\n",
    "    recibe un url  \n",
    "    si todo = False devuelve dos tuplas con los enlaces externos y internos que posee la pagina\n",
    "    si todo = True devuelve una sola tupla con todos los enlaces de la pagina\n",
    "    url --> (enlaces externos, enlaces internos)\n",
    "    \n",
    "    \"\"\"\n",
    "    try:\n",
    "        ar    = requests.get(url)\n",
    "        bs    = BeautifulSoup(ar.text, \"html.parser\")\n",
    "        lista = bs.find_all(\"a\")\n",
    "        ext   = [x.get(\"href\") for x in lista if not x.get(\"href\").startswith(\"#\") and x.get(\"href\").startswith(\"http\")]\n",
    "        inter = [url + x.get(\"href\") for x in lista if not x.get(\"href\").startswith(\"#\") and not x.get(\"href\").startswith(\"http\")]\n",
    "    except :\n",
    "        return None\n",
    "    if todo:\n",
    "        list.extend(ext,inter)\n",
    "        return tuple(ext)\n",
    "    return tuple(ext) , tuple(inter)"
   ]
  },
  {
   "cell_type": "code",
   "execution_count": 11,
   "metadata": {},
   "outputs": [
    {
     "data": {
      "text/plain": [
       "(('https://github.com/',\n",
       "  'https://lab.github.com/',\n",
       "  'https://opensource.guide',\n",
       "  'https://github.com/events',\n",
       "  'https://github.community',\n",
       "  'https://education.github.com',\n",
       "  'https://enterprise.github.com/contact',\n",
       "  'https://education.github.com',\n",
       "  'https://avatars0.githubusercontent.com/u/65197702?s=400&v=4',\n",
       "  'https://help.github.com/en/articles/blocking-a-user-from-your-personal-account',\n",
       "  'https://help.github.com/en/articles/reporting-abuse-or-spam',\n",
       "  'https://help.github.com/en/articles/blocking-a-user-from-your-personal-account',\n",
       "  'https://help.github.com/en/articles/reporting-abuse-or-spam',\n",
       "  'https://help.github.com/articles/why-are-my-contributions-not-showing-up-on-my-profile',\n",
       "  'https://help.github.com/categories/setting-up-and-managing-your-github-profile',\n",
       "  'https://github.com/site/terms',\n",
       "  'https://github.com/site/privacy',\n",
       "  'https://github.com/security',\n",
       "  'https://githubstatus.com/',\n",
       "  'https://help.github.com',\n",
       "  'https://github.com',\n",
       "  'https://github.com/contact',\n",
       "  'https://github.com/pricing',\n",
       "  'https://developer.github.com',\n",
       "  'https://training.github.com',\n",
       "  'https://github.blog',\n",
       "  'https://github.com/about'),\n",
       " ('https://github.com/emipaz/join?ref_cta=Sign+up&ref_loc=header+logged+out&ref_page=%2F%3Cuser-name%3E&source=header',\n",
       "  'https://github.com/emipaz/features',\n",
       "  'https://github.com/emipaz/features/code-review/',\n",
       "  'https://github.com/emipaz/features/project-management/',\n",
       "  'https://github.com/emipaz/features/integrations',\n",
       "  'https://github.com/emipaz/features/actions',\n",
       "  'https://github.com/emipaz/features/packages',\n",
       "  'https://github.com/emipaz/features/security',\n",
       "  'https://github.com/emipaz/features#team-management',\n",
       "  'https://github.com/emipaz/features#hosting',\n",
       "  'https://github.com/emipaz/customer-stories',\n",
       "  'https://github.com/emipaz/security',\n",
       "  'https://github.com/emipaz/team',\n",
       "  'https://github.com/emipaz/enterprise',\n",
       "  'https://github.com/emipaz/explore',\n",
       "  'https://github.com/emipaz/topics',\n",
       "  'https://github.com/emipaz/collections',\n",
       "  'https://github.com/emipaz/trending',\n",
       "  'https://github.com/emipaz/marketplace',\n",
       "  'https://github.com/emipaz/pricing',\n",
       "  'https://github.com/emipaz/pricing#feature-comparison',\n",
       "  'https://github.com/emipaz/nonprofit',\n",
       "  'https://github.com/emipaz',\n",
       "  'https://github.com/emipaz',\n",
       "  'https://github.com/emipaz',\n",
       "  'https://github.com/emipaz/login?return_to=%2Femipaz',\n",
       "  'https://github.com/emipaz/join?ref_cta=Sign+up&ref_loc=header+logged+out&ref_page=%2F%3Cuser-name%3E&source=header',\n",
       "  'https://github.com/emipaz/join?source=prompt-users-profile',\n",
       "  'https://github.com/emipaz/login?return_to=%2Femipaz',\n",
       "  'https://github.com/emipaz/contact/report-abuse?report=emipaz+%28user%29',\n",
       "  'https://github.com/emipaz/contact/report-abuse?report=emipaz+%28user%29',\n",
       "  'https://github.com/emipaz/emipaz',\n",
       "  'https://github.com/emipaz/emipaz?tab=repositories',\n",
       "  'https://github.com/emipaz/emipaz?tab=projects',\n",
       "  'https://github.com/emipaz/emipaz?tab=stars',\n",
       "  'https://github.com/emipaz/emipaz?tab=followers',\n",
       "  'https://github.com/emipaz/emipaz?tab=following',\n",
       "  'https://github.com/emipaz/emipaz/enlaces',\n",
       "  'https://github.com/emipaz/emipaz?tab=overview&from=2020-06-01&to=2020-06-14',\n",
       "  'https://github.com/emipaz/emipaz/enlaces',\n",
       "  'https://github.com/emipaz/emipaz/enlaces/commits?author=emipaz&since=2020-06-01&until=2020-06-15',\n",
       "  'https://github.com/emipaz/emipaz?tab=overview&from=2020-06-01&to=2020-06-30',\n",
       "  'https://github.com/emipaz/emipaz/enlaces',\n",
       "  'https://github.com/emipaz',\n",
       "  'https://github.com/emipaz'))"
      ]
     },
     "execution_count": 11,
     "metadata": {},
     "output_type": "execute_result"
    }
   ],
   "source": [
    "enlaces(\"https://github.com/emipaz\")"
   ]
  },
  {
   "cell_type": "code",
   "execution_count": null,
   "metadata": {},
   "outputs": [],
   "source": []
  }
 ],
 "metadata": {
  "kernelspec": {
   "display_name": "Python 3.7.4 64-bit ('base': conda)",
   "language": "python",
   "name": "python37464bitbaseconda558c5b00091e4465b87cbb418ecb0c83"
  },
  "language_info": {
   "codemirror_mode": {
    "name": "ipython",
    "version": 3
   },
   "file_extension": ".py",
   "mimetype": "text/x-python",
   "name": "python",
   "nbconvert_exporter": "python",
   "pygments_lexer": "ipython3",
   "version": "3.7.4"
  }
 },
 "nbformat": 4,
 "nbformat_minor": 4
}
